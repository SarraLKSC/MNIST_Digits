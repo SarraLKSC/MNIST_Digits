{
  "nbformat": 4,
  "nbformat_minor": 0,
  "metadata": {
    "colab": {
      "name": "Handwritten_Digits.ipynb",
      "provenance": [],
      "collapsed_sections": []
    },
    "kernelspec": {
      "name": "python3",
      "display_name": "Python 3"
    },
    "accelerator": "GPU"
  },
  "cells": [
    {
      "cell_type": "markdown",
      "metadata": {
        "id": "H8jxTDpsV1Yw",
        "colab_type": "text"
      },
      "source": [
        "# **Imports**\n",
        "\n"
      ]
    },
    {
      "cell_type": "code",
      "metadata": {
        "id": "N22kfOT_U7w0",
        "colab_type": "code",
        "colab": {
          "base_uri": "https://localhost:8080/",
          "height": 34
        },
        "outputId": "2be436ee-d359-41e8-9f65-6d28dc0b0468"
      },
      "source": [
        "import tensorflow as tf\n",
        "import matplotlib.pyplot as plt \n",
        "from tensorflow import keras \n",
        "from keras.datasets import mnist"
      ],
      "execution_count": 1,
      "outputs": [
        {
          "output_type": "stream",
          "text": [
            "Using TensorFlow backend.\n"
          ],
          "name": "stderr"
        }
      ]
    },
    {
      "cell_type": "markdown",
      "metadata": {
        "id": "3zrin7ICWCx8",
        "colab_type": "text"
      },
      "source": [
        "# **load the data**"
      ]
    },
    {
      "cell_type": "code",
      "metadata": {
        "id": "PpzgJ9oPVE6E",
        "colab_type": "code",
        "colab": {
          "base_uri": "https://localhost:8080/",
          "height": 51
        },
        "outputId": "3326cd29-c53a-4158-b9ce-1739aba59cf0"
      },
      "source": [
        "(x_train,y_train),(x_test,y_test)=mnist.load_data()"
      ],
      "execution_count": 2,
      "outputs": [
        {
          "output_type": "stream",
          "text": [
            "Downloading data from https://s3.amazonaws.com/img-datasets/mnist.npz\n",
            "11493376/11490434 [==============================] - 2s 0us/step\n"
          ],
          "name": "stdout"
        }
      ]
    },
    {
      "cell_type": "markdown",
      "metadata": {
        "id": "UHqL3x9jWGBG",
        "colab_type": "text"
      },
      "source": [
        "# **visualize the data**\n",
        "thanks to plt we can see what our handwritten digits look like using the imshow() function"
      ]
    },
    {
      "cell_type": "code",
      "metadata": {
        "id": "7S0y2oaLWMhm",
        "colab_type": "code",
        "colab": {
          "base_uri": "https://localhost:8080/",
          "height": 299
        },
        "outputId": "783ba96f-6562-405b-c9f7-fd79c7148bad"
      },
      "source": [
        "print(\"This is a \",y_test[463])\n",
        "plt.imshow(x_test[463],cmap='Greys')"
      ],
      "execution_count": 3,
      "outputs": [
        {
          "output_type": "stream",
          "text": [
            "This is a  6\n"
          ],
          "name": "stdout"
        },
        {
          "output_type": "execute_result",
          "data": {
            "text/plain": [
              "<matplotlib.image.AxesImage at 0x7fa1b6f35d30>"
            ]
          },
          "metadata": {
            "tags": []
          },
          "execution_count": 3
        },
        {
          "output_type": "display_data",
          "data": {
            "image/png": "[encoded data removed]",
            "text/plain": [
              "<Figure size 432x288 with 1 Axes>"
            ]
          },
          "metadata": {
            "tags": [],
            "needs_background": "light"
          }
        }
      ]
    },
    {
      "cell_type": "markdown",
      "metadata": {
        "id": "X64CjNVPWk60",
        "colab_type": "text"
      },
      "source": [
        "# **Normalize de data**\n",
        "The images are represented according to the Grey scale politic which means that each image is a matrics made out of pixels and each pixels holds a value included in the [0,255] interval.However it is better for our network to use values between 0 and 1 so we will be doing a normalization."
      ]
    },
    {
      "cell_type": "code",
      "metadata": {
        "id": "7wBlrVrcWsG2",
        "colab_type": "code",
        "colab": {}
      },
      "source": [
        "x_train=x_train.reshape(x_train.shape[0],28,28,1)\n",
        "x_train=x_train.astype('float32')\n",
        "x_train/=255"
      ],
      "execution_count": 0,
      "outputs": []
    },
    {
      "cell_type": "code",
      "metadata": {
        "id": "-H-FjTu-W4gf",
        "colab_type": "code",
        "colab": {}
      },
      "source": [
        "x_test=x_test.reshape(x_test.shape[0],28,28,1)\n",
        "x_test=x_test.astype('float32')\n",
        "x_test/=255"
      ],
      "execution_count": 0,
      "outputs": []
    },
    {
      "cell_type": "markdown",
      "metadata": {
        "id": "MYYh94EIXWR6",
        "colab_type": "text"
      },
      "source": [
        "# **Create model**\n",
        "\n",
        "now that our data is loaded and normalized, it is time to create the network that will be performing the classification. Since the input data are images a CNN is the best option ! it has the power to extract features from images which makes the learning process a lot easier. In addition to the regular layers of a CNN (Convolution layer, Pooling layer,Flattening layer, Dense layer), a Dropout layer was added to avoid overfitting"
      ]
    },
    {
      "cell_type": "code",
      "metadata": {
        "id": "5xBlcm4HXbon",
        "colab_type": "code",
        "colab": {}
      },
      "source": [
        "model=keras.models.Sequential()\n",
        "model.add(keras.layers.Conv2D(16,(3,3),activation='relu',input_shape=(28,28,1)))\n",
        "model.add(keras.layers.MaxPool2D(2,2))\n",
        "model.add(keras.layers.Dropout(0.2))\n",
        "model.add(keras.layers.Flatten())\n",
        "model.add(keras.layers.Dense(128,activation='relu'))\n",
        "model.add(keras.layers.Dense(10,activation='softmax'))"
      ],
      "execution_count": 0,
      "outputs": []
    },
    {
      "cell_type": "code",
      "metadata": {
        "id": "akInBNsvYg-g",
        "colab_type": "code",
        "colab": {}
      },
      "source": [
        "model.compile(optimizer='adam',\n",
        "              loss=keras.losses.SparseCategoricalCrossentropy(from_logits='true'),\n",
        "              metrics=['acc'])"
      ],
      "execution_count": 0,
      "outputs": []
    },
    {
      "cell_type": "code",
      "metadata": {
        "id": "nJVx_3qxZ15H",
        "colab_type": "code",
        "colab": {
          "base_uri": "https://localhost:8080/",
          "height": 374
        },
        "outputId": "66fcb407-11e9-4515-b944-1c549c1c0b2e"
      },
      "source": [
        "model.fit(x_train,y_train,epochs=10,shuffle='true')"
      ],
      "execution_count": 8,
      "outputs": [
        {
          "output_type": "stream",
          "text": [
            "Epoch 1/10\n",
            "1875/1875 [==============================] - 4s 2ms/step - loss: 1.5429 - acc: 0.9269\n",
            "Epoch 2/10\n",
            "1875/1875 [==============================] - 4s 2ms/step - loss: 1.4954 - acc: 0.9685\n",
            "Epoch 3/10\n",
            "1875/1875 [==============================] - 4s 2ms/step - loss: 1.4866 - acc: 0.9761\n",
            "Epoch 4/10\n",
            "1875/1875 [==============================] - 4s 2ms/step - loss: 1.4819 - acc: 0.9802\n",
            "Epoch 5/10\n",
            "1875/1875 [==============================] - 4s 2ms/step - loss: 1.4784 - acc: 0.9838\n",
            "Epoch 6/10\n",
            "1875/1875 [==============================] - 4s 2ms/step - loss: 1.4762 - acc: 0.9859\n",
            "Epoch 7/10\n",
            "1875/1875 [==============================] - 4s 2ms/step - loss: 1.4745 - acc: 0.9875\n",
            "Epoch 8/10\n",
            "1875/1875 [==============================] - 4s 2ms/step - loss: 1.4729 - acc: 0.9888\n",
            "Epoch 9/10\n",
            "1875/1875 [==============================] - 4s 2ms/step - loss: 1.4718 - acc: 0.9899\n",
            "Epoch 10/10\n",
            "1875/1875 [==============================] - 4s 2ms/step - loss: 1.4714 - acc: 0.9901\n"
          ],
          "name": "stdout"
        },
        {
          "output_type": "execute_result",
          "data": {
            "text/plain": [
              "<tensorflow.python.keras.callbacks.History at 0x7fa1a0140d30>"
            ]
          },
          "metadata": {
            "tags": []
          },
          "execution_count": 8
        }
      ]
    },
    {
      "cell_type": "code",
      "metadata": {
        "id": "40vGENjMaIRg",
        "colab_type": "code",
        "colab": {
          "base_uri": "https://localhost:8080/",
          "height": 51
        },
        "outputId": "d759fbfc-98d0-4bdd-fec1-ec83de489923"
      },
      "source": [
        "model.evaluate(x_test,y_test)"
      ],
      "execution_count": 9,
      "outputs": [
        {
          "output_type": "stream",
          "text": [
            "313/313 [==============================] - 1s 2ms/step - loss: 1.4753 - acc: 0.9861\n"
          ],
          "name": "stdout"
        },
        {
          "output_type": "execute_result",
          "data": {
            "text/plain": [
              "[1.4753246307373047, 0.9861000180244446]"
            ]
          },
          "metadata": {
            "tags": []
          },
          "execution_count": 9
        }
      ]
    },
    {
      "cell_type": "markdown",
      "metadata": {
        "id": "IAUhfzFOhsn3",
        "colab_type": "text"
      },
      "source": [
        "#**Conclusion**\n",
        "After training the model over 10 epochs, its accurac reached 91% which is good ! to make sure the model was learning and not memorising (overfitting) we evaluated it using the test_set. The results of the evaluation was an accuracy of 89% which clode enough to 91%. We can conclude that the model learn and is now able to generalize over unseen data."
      ]
    }
  ]
}